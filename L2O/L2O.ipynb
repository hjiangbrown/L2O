{
 "cells": [
  {
   "cell_type": "code",
   "execution_count": 4,
   "metadata": {},
   "outputs": [],
   "source": [
    "#import essential libraries\n",
    "import l2o as l2o\n",
    "import numpy as np\n",
    "import pandas as pd\n",
    "import matplotlib.pyplot as plt\n",
    "import xarray as xr\n"
   ]
  },
  {
   "cell_type": "code",
   "execution_count": 5,
   "metadata": {},
   "outputs": [],
   "source": [
    "#show small data set input and output\n",
    "# Paths to the CSV files relative to the notebook's location\n",
    "input_csv_path = './small_dataset/small_dataset_input.csv'\n",
    "output_csv_path = './small_dataset/small_dataset_output.csv'\n",
    "\n",
    "# Reading the CSV files\n",
    "input_df = pd.read_csv(input_csv_path)\n",
    "output_df = pd.read_csv(output_csv_path)"
   ]
  },
  {
   "cell_type": "code",
   "execution_count": 6,
   "metadata": {},
   "outputs": [
    {
     "data": {
      "text/html": [
       "<div>\n",
       "<style scoped>\n",
       "    .dataframe tbody tr th:only-of-type {\n",
       "        vertical-align: middle;\n",
       "    }\n",
       "\n",
       "    .dataframe tbody tr th {\n",
       "        vertical-align: top;\n",
       "    }\n",
       "\n",
       "    .dataframe thead th {\n",
       "        text-align: right;\n",
       "    }\n",
       "</style>\n",
       "<table border=\"1\" class=\"dataframe\">\n",
       "  <thead>\n",
       "    <tr style=\"text-align: right;\">\n",
       "      <th></th>\n",
       "      <th>func_id</th>\n",
       "      <th>budget</th>\n",
       "      <th>dimensionality</th>\n",
       "      <th>function_name</th>\n",
       "      <th>noise</th>\n",
       "      <th>seed</th>\n",
       "    </tr>\n",
       "  </thead>\n",
       "  <tbody>\n",
       "    <tr>\n",
       "      <th>0</th>\n",
       "      <td>2198</td>\n",
       "      <td>2000</td>\n",
       "      <td>2</td>\n",
       "      <td>Thevenot</td>\n",
       "      <td>0.1</td>\n",
       "      <td>100895</td>\n",
       "    </tr>\n",
       "    <tr>\n",
       "      <th>1</th>\n",
       "      <td>1478</td>\n",
       "      <td>2000</td>\n",
       "      <td>2</td>\n",
       "      <td>Quartic</td>\n",
       "      <td>0.1</td>\n",
       "      <td>91077</td>\n",
       "    </tr>\n",
       "    <tr>\n",
       "      <th>2</th>\n",
       "      <td>130</td>\n",
       "      <td>2000</td>\n",
       "      <td>2</td>\n",
       "      <td>Levy</td>\n",
       "      <td>0.0</td>\n",
       "      <td>554703</td>\n",
       "    </tr>\n",
       "    <tr>\n",
       "      <th>3</th>\n",
       "      <td>2951</td>\n",
       "      <td>2000</td>\n",
       "      <td>100</td>\n",
       "      <td>Shubert</td>\n",
       "      <td>0.0</td>\n",
       "      <td>152730</td>\n",
       "    </tr>\n",
       "    <tr>\n",
       "      <th>4</th>\n",
       "      <td>2547</td>\n",
       "      <td>2000</td>\n",
       "      <td>2</td>\n",
       "      <td>Schwefel2_20</td>\n",
       "      <td>0.1</td>\n",
       "      <td>204304</td>\n",
       "    </tr>\n",
       "  </tbody>\n",
       "</table>\n",
       "</div>"
      ],
      "text/plain": [
       "   func_id  budget  dimensionality function_name  noise    seed\n",
       "0     2198    2000               2      Thevenot    0.1  100895\n",
       "1     1478    2000               2       Quartic    0.1   91077\n",
       "2      130    2000               2          Levy    0.0  554703\n",
       "3     2951    2000             100       Shubert    0.0  152730\n",
       "4     2547    2000               2  Schwefel2_20    0.1  204304"
      ]
     },
     "execution_count": 6,
     "metadata": {},
     "output_type": "execute_result"
    }
   ],
   "source": [
    "input_df.head()"
   ]
  },
  {
   "cell_type": "code",
   "execution_count": 7,
   "metadata": {},
   "outputs": [
    {
     "data": {
      "text/html": [
       "<div>\n",
       "<style scoped>\n",
       "    .dataframe tbody tr th:only-of-type {\n",
       "        vertical-align: middle;\n",
       "    }\n",
       "\n",
       "    .dataframe tbody tr th {\n",
       "        vertical-align: top;\n",
       "    }\n",
       "\n",
       "    .dataframe thead th {\n",
       "        text-align: right;\n",
       "    }\n",
       "</style>\n",
       "<table border=\"1\" class=\"dataframe\">\n",
       "  <thead>\n",
       "    <tr style=\"text-align: right;\">\n",
       "      <th></th>\n",
       "      <th>Unnamed: 0</th>\n",
       "      <th>path_raw</th>\n",
       "      <th>path_post</th>\n",
       "    </tr>\n",
       "  </thead>\n",
       "  <tbody>\n",
       "    <tr>\n",
       "      <th>0</th>\n",
       "      <td>2198</td>\n",
       "      <td>raw/2198.nc</td>\n",
       "      <td>post/2198.nc</td>\n",
       "    </tr>\n",
       "    <tr>\n",
       "      <th>1</th>\n",
       "      <td>1478</td>\n",
       "      <td>raw/1478.nc</td>\n",
       "      <td>post/1478.nc</td>\n",
       "    </tr>\n",
       "    <tr>\n",
       "      <th>2</th>\n",
       "      <td>130</td>\n",
       "      <td>raw/130.nc</td>\n",
       "      <td>post/130.nc</td>\n",
       "    </tr>\n",
       "    <tr>\n",
       "      <th>3</th>\n",
       "      <td>2951</td>\n",
       "      <td>raw/2951.nc</td>\n",
       "      <td>post/2951.nc</td>\n",
       "    </tr>\n",
       "    <tr>\n",
       "      <th>4</th>\n",
       "      <td>2547</td>\n",
       "      <td>raw/2547.nc</td>\n",
       "      <td>post/2547.nc</td>\n",
       "    </tr>\n",
       "  </tbody>\n",
       "</table>\n",
       "</div>"
      ],
      "text/plain": [
       "   Unnamed: 0     path_raw     path_post\n",
       "0        2198  raw/2198.nc  post/2198.nc\n",
       "1        1478  raw/1478.nc  post/1478.nc\n",
       "2         130   raw/130.nc   post/130.nc\n",
       "3        2951  raw/2951.nc  post/2951.nc\n",
       "4        2547  raw/2547.nc  post/2547.nc"
      ]
     },
     "execution_count": 7,
     "metadata": {},
     "output_type": "execute_result"
    }
   ],
   "source": [
    "output_df.head()"
   ]
  },
  {
   "cell_type": "code",
   "execution_count": 8,
   "metadata": {},
   "outputs": [
    {
     "data": {
      "text/html": [
       "<div>\n",
       "<style scoped>\n",
       "    .dataframe tbody tr th:only-of-type {\n",
       "        vertical-align: middle;\n",
       "    }\n",
       "\n",
       "    .dataframe tbody tr th {\n",
       "        vertical-align: top;\n",
       "    }\n",
       "\n",
       "    .dataframe thead th {\n",
       "        text-align: right;\n",
       "    }\n",
       "</style>\n",
       "<table border=\"1\" class=\"dataframe\">\n",
       "  <thead>\n",
       "    <tr style=\"text-align: right;\">\n",
       "      <th></th>\n",
       "      <th>func_id</th>\n",
       "      <th>budget</th>\n",
       "      <th>dimensionality</th>\n",
       "      <th>function_name</th>\n",
       "      <th>noise</th>\n",
       "      <th>seed</th>\n",
       "    </tr>\n",
       "  </thead>\n",
       "  <tbody>\n",
       "    <tr>\n",
       "      <th>98</th>\n",
       "      <td>691</td>\n",
       "      <td>2000</td>\n",
       "      <td>10</td>\n",
       "      <td>Ackley</td>\n",
       "      <td>0.0</td>\n",
       "      <td>504520</td>\n",
       "    </tr>\n",
       "  </tbody>\n",
       "</table>\n",
       "</div>"
      ],
      "text/plain": [
       "    func_id  budget  dimensionality function_name  noise    seed\n",
       "98      691    2000              10        Ackley    0.0  504520"
      ]
     },
     "execution_count": 8,
     "metadata": {},
     "output_type": "execute_result"
    }
   ],
   "source": [
    "#show input row func_id=691\n",
    "input_df[input_df['func_id']==691]"
   ]
  },
  {
   "cell_type": "markdown",
   "metadata": {},
   "source": [
    "nvestigate the optimization data\n",
    "To get familiar with the dataset, try to replicate the following experiments:\n",
    "1. We start off by opening one of the experiments raw data of the small dataset\n",
    "1.1. Choose the experiment with index 691 from the dataset. Note down the characteristics (e.g. dimen- sionality, noise level, noticeable loss-landscape characteristics). Before looking at the results: which optimizers do you expect to solve the problem with ease?\n",
    "1.2. Open the raw dataset in Python. You can use the open_one_dataset_raw() helper function.\n",
    "1.3. Plot the objective values ’y’ found with the Adam optimizer for the first realization with respect to\n",
    "the iteration number.\n",
    "1.4. Repeat question 1.3 for the second realization. Is there a difference in the performance? If so, can you explain why?\n",
    "1.5. In the figure you created in questions 1.3, overlay the objective values ’y’ found with the remaining optimizers for the first realization. Are they behaving differently?\n",
    "1.6. We want to compare the best found solution at a given iteration in a so-called convergence plot. Take the cumulative minimum of the objective values with respect to the iteration number for each of the realizations. After that, take the median value over the realizations. Repeat this for every optimizer in the dataset9.\n",
    "1.7. Plot the results you obtained in the previous exercise. Make sure your figure has a legend and you label each optimizer. Which optimizer is the ’winner’ and why?\n",
    "1.8. Load up experiment 280 and repeat questions 1.6 and 1.7 for this dataset How do these results relate to the ’No Free Lunch’ theorem (4) ?\n"
   ]
  }
 ],
 "metadata": {
  "kernelspec": {
   "display_name": "3dasm",
   "language": "python",
   "name": "python3"
  },
  "language_info": {
   "codemirror_mode": {
    "name": "ipython",
    "version": 3
   },
   "file_extension": ".py",
   "mimetype": "text/x-python",
   "name": "python",
   "nbconvert_exporter": "python",
   "pygments_lexer": "ipython3",
   "version": "3.10.11"
  }
 },
 "nbformat": 4,
 "nbformat_minor": 2
}
